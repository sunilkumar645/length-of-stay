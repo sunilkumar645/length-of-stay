{
 "cells": [
  {
   "cell_type": "code",
   "execution_count": 3,
   "id": "738544cb",
   "metadata": {},
   "outputs": [
    {
     "name": "stdout",
     "output_type": "stream",
     "text": [
      "   eid       vdate rcount gender  dialysisrenalendstage  asthma  irondef  \\\n",
      "0    1   8/29/2012      0      F                      0       0        0   \n",
      "1    2   5/26/2012     5+      F                      0       0        0   \n",
      "2    3   9/22/2012      1      F                      0       0        0   \n",
      "3    4    8/9/2012      0      F                      0       0        0   \n",
      "4    5  12/20/2012      0      F                      0       0        0   \n",
      "\n",
      "   pneum  substancedependence  psychologicaldisordermajor  ...     glucose  \\\n",
      "0      0                    0                           0  ...  192.476918   \n",
      "1      0                    0                           0  ...   94.078507   \n",
      "2      0                    0                           0  ...  130.530524   \n",
      "3      0                    0                           0  ...  163.377028   \n",
      "4      1                    0                           1  ...   94.886654   \n",
      "\n",
      "   bloodureanitro  creatinine        bmi  pulse  respiration  \\\n",
      "0            12.0    1.390722  30.432418     96          6.5   \n",
      "1             8.0    0.943164  28.460516     61          6.5   \n",
      "2            12.0    1.065750  28.843812     64          6.5   \n",
      "3            12.0    0.906862  27.959007     76          6.5   \n",
      "4            11.5    1.242854  30.258927     67          5.6   \n",
      "\n",
      "   secondarydiagnosisnonicd9  discharged  facid  lengthofstay  \n",
      "0                          4    9/1/2012      B             3  \n",
      "1                          1    6/2/2012      A             7  \n",
      "2                          2   9/25/2012      B             3  \n",
      "3                          1   8/10/2012      A             1  \n",
      "4                          2  12/24/2012      E             4  \n",
      "\n",
      "[5 rows x 28 columns]\n"
     ]
    }
   ],
   "source": [
    "import pandas as pd\n",
    "file_path = r\"LengthOfStay.csv\"\n",
    "data = pd.read_csv(file_path)\n",
    "print(df.head())\n"
   ]
  },
  {
   "cell_type": "code",
   "execution_count": 4,
   "id": "b675bb5b",
   "metadata": {},
   "outputs": [
    {
     "name": "stdout",
     "output_type": "stream",
     "text": [
      "eid                           0\n",
      "vdate                         0\n",
      "rcount                        0\n",
      "gender                        0\n",
      "dialysisrenalendstage         0\n",
      "asthma                        0\n",
      "irondef                       0\n",
      "pneum                         0\n",
      "substancedependence           0\n",
      "psychologicaldisordermajor    0\n",
      "depress                       0\n",
      "psychother                    0\n",
      "fibrosisandother              0\n",
      "malnutrition                  0\n",
      "hemo                          0\n",
      "hematocrit                    0\n",
      "neutrophils                   0\n",
      "sodium                        0\n",
      "glucose                       0\n",
      "bloodureanitro                0\n",
      "creatinine                    0\n",
      "bmi                           0\n",
      "pulse                         0\n",
      "respiration                   0\n",
      "secondarydiagnosisnonicd9     0\n",
      "discharged                    0\n",
      "facid                         0\n",
      "lengthofstay                  0\n",
      "dtype: int64\n"
     ]
    }
   ],
   "source": [
    "# Step 1: Checking for missing values\n",
    "missing_values = data.isnull().sum()\n",
    "print(missing_values)\n"
   ]
  },
  {
   "cell_type": "code",
   "execution_count": 5,
   "id": "546993f3",
   "metadata": {},
   "outputs": [
    {
     "name": "stdout",
     "output_type": "stream",
     "text": [
      "0\n"
     ]
    }
   ],
   "source": [
    "# Step 2: Checking for duplicates\n",
    "duplicates = data.duplicated().sum()\n",
    "\n",
    "print(duplicates)\n"
   ]
  },
  {
   "cell_type": "code",
   "execution_count": 7,
   "id": "86215d1a",
   "metadata": {},
   "outputs": [
    {
     "name": "stdout",
     "output_type": "stream",
     "text": [
      "Data Types : eid                             int64\n",
      "vdate                          object\n",
      "rcount                         object\n",
      "gender                         object\n",
      "dialysisrenalendstage           int64\n",
      "asthma                          int64\n",
      "irondef                         int64\n",
      "pneum                           int64\n",
      "substancedependence             int64\n",
      "psychologicaldisordermajor      int64\n",
      "depress                         int64\n",
      "psychother                      int64\n",
      "fibrosisandother                int64\n",
      "malnutrition                    int64\n",
      "hemo                            int64\n",
      "hematocrit                    float64\n",
      "neutrophils                   float64\n",
      "sodium                        float64\n",
      "glucose                       float64\n",
      "bloodureanitro                float64\n",
      "creatinine                    float64\n",
      "bmi                           float64\n",
      "pulse                           int64\n",
      "respiration                   float64\n",
      "secondarydiagnosisnonicd9       int64\n",
      "discharged                     object\n",
      "facid                          object\n",
      "lengthofstay                    int64\n",
      "dtype: object\n"
     ]
    }
   ],
   "source": [
    "# Step 3: Examining data types and potential inconsistencies\n",
    "data_types = data.dtypes\n",
    "print(\"Data Types :\",data_types)"
   ]
  },
  {
   "cell_type": "code",
   "execution_count": 10,
   "id": "d8a74d5c",
   "metadata": {},
   "outputs": [
    {
     "name": "stdout",
     "output_type": "stream",
     "text": [
      "eid                               0\n",
      "dialysisrenalendstage          3642\n",
      "asthma                         3527\n",
      "irondef                        9494\n",
      "pneum                          3945\n",
      "substancedependence            6306\n",
      "psychologicaldisordermajor    23904\n",
      "depress                        5166\n",
      "psychother                     4939\n",
      "fibrosisandother                479\n",
      "malnutrition                   4948\n",
      "hemo                           8000\n",
      "hematocrit                     5616\n",
      "neutrophils                    6515\n",
      "sodium                          711\n",
      "glucose                         695\n",
      "bloodureanitro                19592\n",
      "creatinine                      675\n",
      "bmi                             685\n",
      "pulse                          1054\n",
      "respiration                   35167\n",
      "secondarydiagnosisnonicd9      5016\n",
      "lengthofstay                    132\n",
      "dtype: int64\n"
     ]
    }
   ],
   "source": [
    "import numpy as np\n",
    "\n",
    "# Step 4: Checking for outliers in numerical columns\n",
    "numerical_cols = data.select_dtypes(include=[np.number])\n",
    "outliers = numerical_cols.apply(lambda x: np.sum((x < (x.quantile(0.25) - 1.5 * (x.quantile(0.75) - x.quantile(0.25)))) | \n",
    "                                                  (x > (x.quantile(0.75) + 1.5 * (x.quantile(0.75) - x.quantile(0.25))))))\n",
    "\n",
    "print(outliers)"
   ]
  },
  {
   "cell_type": "code",
   "execution_count": 17,
   "id": "a8109065",
   "metadata": {},
   "outputs": [
    {
     "data": {
      "text/plain": [
       "(24098, 28)"
      ]
     },
     "execution_count": 17,
     "metadata": {},
     "output_type": "execute_result"
    }
   ],
   "source": [
    "# Removing outliers from the numerical columns\n",
    "\n",
    "def remove_outliers(df, column):\n",
    "    Q1 = df[column].quantile(0.25)\n",
    "    Q3 = df[column].quantile(0.75)\n",
    "    IQR = Q3 - Q1\n",
    "    lower_bound = Q1 - 1.5 * IQR\n",
    "    upper_bound = Q3 + 1.5 * IQR\n",
    "    return df[(df[column] >= lower_bound) & (df[column] <= upper_bound)]\n",
    "\n",
    "for col in numerical_cols.columns:\n",
    "    data = remove_outliers(data, col)\n",
    "\n",
    "data_cleaned_shape = data.shape\n",
    "\n",
    "data_cleaned_shape\n",
    "\n"
   ]
  },
  {
   "cell_type": "code",
   "execution_count": 18,
   "id": "b0aeed32",
   "metadata": {},
   "outputs": [
    {
     "name": "stdout",
     "output_type": "stream",
     "text": [
      "      rcount gender facid\n",
      "0          0      F     B\n",
      "3          0      F     A\n",
      "14         1      F     A\n",
      "21         0      M     A\n",
      "27         3      F     B\n",
      "...      ...    ...   ...\n",
      "99976      0      M     B\n",
      "99978      0      M     B\n",
      "99995      3      M     B\n",
      "99996      0      M     B\n",
      "99999      0      F     B\n",
      "\n",
      "[24098 rows x 3 columns]\n"
     ]
    }
   ],
   "source": [
    "# Step 5: Examining unique values in categorical columns to identify any irregularities\n",
    "categorical_cols = data.select_dtypes(include=['object'])\n",
    "unique_values = {col: data[col].unique() for col in categorical_cols.columns}\n",
    "\n",
    "print(categorical_cols)"
   ]
  },
  {
   "cell_type": "code",
   "execution_count": 19,
   "id": "daf02624",
   "metadata": {},
   "outputs": [
    {
     "data": {
      "text/plain": [
       "eid                                    int64\n",
       "vdate                         datetime64[ns]\n",
       "rcount                                object\n",
       "gender                                object\n",
       "dialysisrenalendstage                  int64\n",
       "asthma                                 int64\n",
       "irondef                                int64\n",
       "pneum                                  int64\n",
       "substancedependence                    int64\n",
       "psychologicaldisordermajor             int64\n",
       "depress                                int64\n",
       "psychother                             int64\n",
       "fibrosisandother                       int64\n",
       "malnutrition                           int64\n",
       "hemo                                   int64\n",
       "hematocrit                           float64\n",
       "neutrophils                          float64\n",
       "sodium                               float64\n",
       "glucose                              float64\n",
       "bloodureanitro                       float64\n",
       "creatinine                           float64\n",
       "bmi                                  float64\n",
       "pulse                                  int64\n",
       "respiration                          float64\n",
       "secondarydiagnosisnonicd9              int64\n",
       "discharged                    datetime64[ns]\n",
       "facid                                 object\n",
       "lengthofstay                           int64\n",
       "dtype: object"
      ]
     },
     "execution_count": 19,
     "metadata": {},
     "output_type": "execute_result"
    }
   ],
   "source": [
    "# Data Cleaning Steps\n",
    "\n",
    "# Step 1: Convert 'vdate' and 'discharged' to datetime format\n",
    "\n",
    "data['vdate'] = pd.to_datetime(data['vdate'], format='%m/%d/%Y')\n",
    "data['discharged'] = pd.to_datetime(data['discharged'], format='%m/%d/%Y')\n",
    "\n",
    "data_cleaned = data.copy()\n",
    "data_cleaned.dtypes\n",
    "\n"
   ]
  },
  {
   "cell_type": "code",
   "execution_count": 21,
   "id": "4da870df",
   "metadata": {},
   "outputs": [],
   "source": [
    "#convert data to csv file\n",
    "\n",
    "cleaned_file_path = 'LengthOfStay_cleaned.csv'  # Replace with your desired file path\n",
    "data_cleaned.to_csv(cleaned_file_path, index=False)"
   ]
  },
  {
   "cell_type": "code",
   "execution_count": null,
   "id": "7ab0a89a",
   "metadata": {},
   "outputs": [],
   "source": []
  }
 ],
 "metadata": {
  "kernelspec": {
   "display_name": "Python 3 (ipykernel)",
   "language": "python",
   "name": "python3"
  },
  "language_info": {
   "codemirror_mode": {
    "name": "ipython",
    "version": 3
   },
   "file_extension": ".py",
   "mimetype": "text/x-python",
   "name": "python",
   "nbconvert_exporter": "python",
   "pygments_lexer": "ipython3",
   "version": "3.9.13"
  }
 },
 "nbformat": 4,
 "nbformat_minor": 5
}
