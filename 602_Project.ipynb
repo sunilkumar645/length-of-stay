{
 "cells": [
  {
   "cell_type": "code",
   "execution_count": 2,
   "id": "874bbc5f",
   "metadata": {},
   "outputs": [
    {
     "name": "stdout",
     "output_type": "stream",
     "text": [
      "Requirement already satisfied: pandas in c:\\users\\srila\\anaconda3\\lib\\site-packages (2.0.3)Note: you may need to restart the kernel to use updated packages.\n",
      "\n",
      "Requirement already satisfied: matplotlib in c:\\users\\srila\\anaconda3\\lib\\site-packages (3.7.2)\n",
      "Requirement already satisfied: seaborn in c:\\users\\srila\\anaconda3\\lib\\site-packages (0.12.2)\n",
      "Requirement already satisfied: python-dateutil>=2.8.2 in c:\\users\\srila\\anaconda3\\lib\\site-packages (from pandas) (2.8.2)\n",
      "Requirement already satisfied: pytz>=2020.1 in c:\\users\\srila\\anaconda3\\lib\\site-packages (from pandas) (2023.3.post1)\n",
      "Requirement already satisfied: tzdata>=2022.1 in c:\\users\\srila\\anaconda3\\lib\\site-packages (from pandas) (2023.3)\n",
      "Requirement already satisfied: numpy>=1.21.0 in c:\\users\\srila\\anaconda3\\lib\\site-packages (from pandas) (1.24.3)\n",
      "Requirement already satisfied: contourpy>=1.0.1 in c:\\users\\srila\\anaconda3\\lib\\site-packages (from matplotlib) (1.0.5)\n",
      "Requirement already satisfied: cycler>=0.10 in c:\\users\\srila\\anaconda3\\lib\\site-packages (from matplotlib) (0.11.0)\n",
      "Requirement already satisfied: fonttools>=4.22.0 in c:\\users\\srila\\anaconda3\\lib\\site-packages (from matplotlib) (4.25.0)\n",
      "Requirement already satisfied: kiwisolver>=1.0.1 in c:\\users\\srila\\anaconda3\\lib\\site-packages (from matplotlib) (1.4.4)\n",
      "Requirement already satisfied: packaging>=20.0 in c:\\users\\srila\\anaconda3\\lib\\site-packages (from matplotlib) (23.1)\n",
      "Requirement already satisfied: pillow>=6.2.0 in c:\\users\\srila\\anaconda3\\lib\\site-packages (from matplotlib) (9.4.0)\n",
      "Requirement already satisfied: pyparsing<3.1,>=2.3.1 in c:\\users\\srila\\anaconda3\\lib\\site-packages (from matplotlib) (3.0.9)\n",
      "Requirement already satisfied: six>=1.5 in c:\\users\\srila\\anaconda3\\lib\\site-packages (from python-dateutil>=2.8.2->pandas) (1.16.0)\n"
     ]
    }
   ],
   "source": [
    "pip install pandas matplotlib seaborn\n"
   ]
  },
  {
   "cell_type": "code",
   "execution_count": 3,
   "id": "5e941cbe",
   "metadata": {},
   "outputs": [
    {
     "name": "stdout",
     "output_type": "stream",
     "text": [
      "Requirement already satisfied: pandas in c:\\users\\srila\\anaconda3\\lib\\site-packages (2.0.3)\n",
      "Requirement already satisfied: python-dateutil>=2.8.2 in c:\\users\\srila\\anaconda3\\lib\\site-packages (from pandas) (2.8.2)\n",
      "Requirement already satisfied: pytz>=2020.1 in c:\\users\\srila\\anaconda3\\lib\\site-packages (from pandas) (2023.3.post1)\n",
      "Requirement already satisfied: tzdata>=2022.1 in c:\\users\\srila\\anaconda3\\lib\\site-packages (from pandas) (2023.3)\n",
      "Requirement already satisfied: numpy>=1.21.0 in c:\\users\\srila\\anaconda3\\lib\\site-packages (from pandas) (1.24.3)\n",
      "Requirement already satisfied: six>=1.5 in c:\\users\\srila\\anaconda3\\lib\\site-packages (from python-dateutil>=2.8.2->pandas) (1.16.0)\n",
      "Note: you may need to restart the kernel to use updated packages.\n"
     ]
    }
   ],
   "source": [
    "pip install pandas\n"
   ]
  },
  {
   "cell_type": "code",
   "execution_count": 1,
   "id": "17fda8ac",
   "metadata": {},
   "outputs": [
    {
     "name": "stdout",
     "output_type": "stream",
     "text": [
      "   eid       vdate rcount gender  dialysisrenalendstage  asthma  irondef  \\\n",
      "0    1  2012-08-29      0      F                      0       0        0   \n",
      "1    4  2012-08-09      0      F                      0       0        0   \n",
      "2   15  2012-06-15      1      F                      0       0        0   \n",
      "3   22  2012-08-24      0      M                      0       0        0   \n",
      "4   28  2012-06-28      3      F                      0       0        0   \n",
      "\n",
      "   pneum  substancedependence  psychologicaldisordermajor  ...     glucose  \\\n",
      "0      0                    0                           0  ...  192.476918   \n",
      "1      0                    0                           0  ...  163.377028   \n",
      "2      0                    0                           0  ...   95.343064   \n",
      "3      0                    0                           0  ...  161.821483   \n",
      "4      0                    0                           0  ...  155.508788   \n",
      "\n",
      "   bloodureanitro  creatinine        bmi  pulse  respiration  \\\n",
      "0            12.0    1.390722  30.432418     96          6.5   \n",
      "1            12.0    0.906862  27.959007     76          6.5   \n",
      "2            12.0    1.050820  28.577796     69          6.5   \n",
      "3            12.0    1.332474  28.931121     77          6.5   \n",
      "4            12.0    1.035963  30.072107     65          6.5   \n",
      "\n",
      "   secondarydiagnosisnonicd9  discharged  facid  lengthofstay  \n",
      "0                          4  2012-09-01      B             3  \n",
      "1                          1  2012-08-10      A             1  \n",
      "2                          1  2012-06-17      A             2  \n",
      "3                          1  2012-08-25      A             1  \n",
      "4                          1  2012-07-03      B             5  \n",
      "\n",
      "[5 rows x 28 columns]\n"
     ]
    }
   ],
   "source": [
    "import pandas as pd\n",
    "file_path = r\"LengthOfStay_cleaned.csv\"\n",
    "df = pd.read_csv(file_path)\n",
    "print(df.head())\n"
   ]
  },
  {
   "cell_type": "code",
   "execution_count": 9,
   "id": "76dfc442",
   "metadata": {},
   "outputs": [
    {
     "name": "stdout",
     "output_type": "stream",
     "text": [
      "Basic EDA of DataFrame:\n",
      "<class 'pandas.core.frame.DataFrame'>\n",
      "RangeIndex: 100000 entries, 0 to 99999\n",
      "Data columns (total 28 columns):\n",
      " #   Column                      Non-Null Count   Dtype  \n",
      "---  ------                      --------------   -----  \n",
      " 0   eid                         100000 non-null  int64  \n",
      " 1   vdate                       100000 non-null  object \n",
      " 2   rcount                      100000 non-null  object \n",
      " 3   gender                      100000 non-null  object \n",
      " 4   dialysisrenalendstage       100000 non-null  int64  \n",
      " 5   asthma                      100000 non-null  int64  \n",
      " 6   irondef                     100000 non-null  int64  \n",
      " 7   pneum                       100000 non-null  int64  \n",
      " 8   substancedependence         100000 non-null  int64  \n",
      " 9   psychologicaldisordermajor  100000 non-null  int64  \n",
      " 10  depress                     100000 non-null  int64  \n",
      " 11  psychother                  100000 non-null  int64  \n",
      " 12  fibrosisandother            100000 non-null  int64  \n",
      " 13  malnutrition                100000 non-null  int64  \n",
      " 14  hemo                        100000 non-null  int64  \n",
      " 15  hematocrit                  100000 non-null  float64\n",
      " 16  neutrophils                 100000 non-null  float64\n",
      " 17  sodium                      100000 non-null  float64\n",
      " 18  glucose                     100000 non-null  float64\n",
      " 19  bloodureanitro              100000 non-null  float64\n",
      " 20  creatinine                  100000 non-null  float64\n",
      " 21  bmi                         100000 non-null  float64\n",
      " 22  pulse                       100000 non-null  int64  \n",
      " 23  respiration                 100000 non-null  float64\n",
      " 24  secondarydiagnosisnonicd9   100000 non-null  int64  \n",
      " 25  discharged                  100000 non-null  object \n",
      " 26  facid                       100000 non-null  object \n",
      " 27  lengthofstay                100000 non-null  int64  \n",
      "dtypes: float64(8), int64(15), object(5)\n",
      "memory usage: 21.4+ MB\n",
      "None\n"
     ]
    }
   ],
   "source": [
    "# showing information about the Data\n",
    "print(\"Basic EDA of DataFrame:\")\n",
    "print(df.info())\n"
   ]
  },
  {
   "cell_type": "code",
   "execution_count": 10,
   "id": "70082b6a",
   "metadata": {},
   "outputs": [
    {
     "name": "stdout",
     "output_type": "stream",
     "text": [
      "Shape of the Data:\n",
      "(100000, 28)\n"
     ]
    }
   ],
   "source": [
    "# Displaying shape of the Data\n",
    "print(\"Shape of the Data:\")\n",
    "print(df.shape)"
   ]
  },
  {
   "cell_type": "code",
   "execution_count": 11,
   "id": "afb159fc",
   "metadata": {},
   "outputs": [
    {
     "name": "stdout",
     "output_type": "stream",
     "text": [
      "\n",
      "Null Values in Each Column:\n",
      "eid                           0\n",
      "vdate                         0\n",
      "rcount                        0\n",
      "gender                        0\n",
      "dialysisrenalendstage         0\n",
      "asthma                        0\n",
      "irondef                       0\n",
      "pneum                         0\n",
      "substancedependence           0\n",
      "psychologicaldisordermajor    0\n",
      "depress                       0\n",
      "psychother                    0\n",
      "fibrosisandother              0\n",
      "malnutrition                  0\n",
      "hemo                          0\n",
      "hematocrit                    0\n",
      "neutrophils                   0\n",
      "sodium                        0\n",
      "glucose                       0\n",
      "bloodureanitro                0\n",
      "creatinine                    0\n",
      "bmi                           0\n",
      "pulse                         0\n",
      "respiration                   0\n",
      "secondarydiagnosisnonicd9     0\n",
      "discharged                    0\n",
      "facid                         0\n",
      "lengthofstay                  0\n",
      "dtype: int64\n"
     ]
    }
   ],
   "source": [
    "# showing null values \n",
    "print(\"\\nNull Values in Each Column:\")\n",
    "print(df.isnull().sum())\n"
   ]
  },
  {
   "cell_type": "code",
   "execution_count": 12,
   "id": "573d4158",
   "metadata": {},
   "outputs": [],
   "source": [
    "df['vdate'] = pd.to_datetime(df['vdate'])\n",
    "df['discharged'] = pd.to_datetime(df['discharged'])\n"
   ]
  },
  {
   "cell_type": "code",
   "execution_count": 13,
   "id": "a3634676",
   "metadata": {},
   "outputs": [],
   "source": [
    "df = pd.get_dummies(df, columns=['gender', 'rcount', 'facid'], drop_first=True)\n"
   ]
  },
  {
   "cell_type": "code",
   "execution_count": 14,
   "id": "bbcb86e6",
   "metadata": {},
   "outputs": [
    {
     "name": "stdout",
     "output_type": "stream",
     "text": [
      "lengthofstay                  1.000000\n",
      "rcount_5+                     0.416128\n",
      "rcount_4                      0.376846\n",
      "facid_E                       0.326482\n",
      "psychologicaldisordermajor    0.286724\n",
      "rcount_3                      0.284725\n",
      "hemo                          0.217696\n",
      "irondef                       0.193838\n",
      "psychother                    0.191695\n",
      "rcount_2                      0.179145\n",
      "malnutrition                  0.174397\n",
      "dialysisrenalendstage         0.169695\n",
      "bloodureanitro                0.148290\n",
      "substancedependence           0.147886\n",
      "pneum                         0.135461\n",
      "depress                       0.121408\n",
      "facid_C                       0.083670\n",
      "asthma                        0.082005\n",
      "facid_D                       0.076043\n",
      "gender_M                      0.069575\n",
      "fibrosisandother              0.062131\n",
      "discharged                    0.023009\n",
      "pulse                         0.006683\n",
      "secondarydiagnosisnonicd9     0.006540\n",
      "eid                           0.001543\n",
      "vdate                         0.000734\n",
      "bmi                           0.000132\n",
      "glucose                      -0.003447\n",
      "sodium                       -0.003546\n",
      "creatinine                   -0.004026\n",
      "neutrophils                  -0.010658\n",
      "respiration                  -0.022291\n",
      "rcount_1                     -0.054101\n",
      "hematocrit                   -0.064016\n",
      "facid_B                      -0.198946\n",
      "Name: lengthofstay, dtype: float64\n"
     ]
    }
   ],
   "source": [
    "correlation_matrix = df.corr()\n",
    "print(correlation_matrix['lengthofstay'].sort_values(ascending=False))"
   ]
  },
  {
   "cell_type": "code",
   "execution_count": 29,
   "id": "b24f9e67",
   "metadata": {},
   "outputs": [],
   "source": [
    "import pandas as pd\n",
    "import numpy as np\n",
    "import matplotlib.pyplot as plt\n",
    "import seaborn as sns\n",
    "from sklearn.model_selection import train_test_split\n",
    "from sklearn.ensemble import RandomForestRegressor\n",
    "from sklearn.metrics import accuracy_score, confusion_matrix, classification_report"
   ]
  },
  {
   "cell_type": "code",
   "execution_count": 30,
   "id": "e793283f",
   "metadata": {},
   "outputs": [
    {
     "name": "stdout",
     "output_type": "stream",
     "text": [
      "                 eid                          vdate  dialysisrenalendstage  \\\n",
      "count  100000.000000                         100000          100000.000000   \n",
      "mean    50000.500000  2012-07-02 09:42:03.743999744               0.036420   \n",
      "min         1.000000            2012-01-01 00:00:00               0.000000   \n",
      "25%     25000.750000            2012-04-01 00:00:00               0.000000   \n",
      "50%     50000.500000            2012-07-03 00:00:00               0.000000   \n",
      "75%     75000.250000            2012-10-03 00:00:00               0.000000   \n",
      "max    100000.000000            2013-01-01 00:00:00               1.000000   \n",
      "std     28867.657797                            NaN               0.187334   \n",
      "\n",
      "              asthma        irondef          pneum  substancedependence  \\\n",
      "count  100000.000000  100000.000000  100000.000000        100000.000000   \n",
      "mean        0.035270       0.094940       0.039450             0.063060   \n",
      "min         0.000000       0.000000       0.000000             0.000000   \n",
      "25%         0.000000       0.000000       0.000000             0.000000   \n",
      "50%         0.000000       0.000000       0.000000             0.000000   \n",
      "75%         0.000000       0.000000       0.000000             0.000000   \n",
      "max         1.000000       1.000000       1.000000             1.000000   \n",
      "std         0.184462       0.293134       0.194664             0.243072   \n",
      "\n",
      "       psychologicaldisordermajor        depress     psychother  ...  \\\n",
      "count               100000.000000  100000.000000  100000.000000  ...   \n",
      "mean                     0.239040       0.051660       0.049390  ...   \n",
      "min                      0.000000       0.000000       0.000000  ...   \n",
      "25%                      0.000000       0.000000       0.000000  ...   \n",
      "50%                      0.000000       0.000000       0.000000  ...   \n",
      "75%                      0.000000       0.000000       0.000000  ...   \n",
      "max                      1.000000       1.000000       1.000000  ...   \n",
      "std                      0.426499       0.221341       0.216682  ...   \n",
      "\n",
      "             sodium       glucose  bloodureanitro    creatinine           bmi  \\\n",
      "count  1.000000e+05  1.000000e+05    1.000000e+05  1.000000e+05  1.000000e+05   \n",
      "mean  -6.056950e-15  5.812950e-16   -2.870593e-17  9.450218e-16 -1.329354e-15   \n",
      "min   -4.326754e+00 -4.766780e+00   -1.011179e+00 -4.392176e+00 -3.899210e+00   \n",
      "25%   -6.735227e-01 -6.761946e-01   -2.391207e-01 -6.722725e-01 -6.744943e-01   \n",
      "50%   -1.415443e-03  4.173018e-03   -1.619149e-01 -2.925473e-03  8.765736e-04   \n",
      "75%    6.739070e-01  6.740811e-01   -7.503219e-03  6.767057e-01  6.742954e-01   \n",
      "max    4.499148e+00  4.317059e+00    5.160459e+01  4.673169e+00  4.556204e+00   \n",
      "std    1.000005e+00  1.000005e+00    1.000005e+00  1.000005e+00  1.000005e+00   \n",
      "\n",
      "               pulse   respiration  secondarydiagnosisnonicd9  \\\n",
      "count  100000.000000  1.000000e+05              100000.000000   \n",
      "mean       73.444720  2.281411e-15                   2.123310   \n",
      "min        21.000000 -1.107141e+01                   0.000000   \n",
      "25%        66.000000  1.096290e-02                   1.000000   \n",
      "50%        73.000000  1.096290e-02                   1.000000   \n",
      "75%        81.000000  1.096290e-02                   3.000000   \n",
      "max       130.000000  6.167839e+00                  10.000000   \n",
      "std        11.644555  1.000005e+00                   2.050641   \n",
      "\n",
      "                       discharged  lengthofstay  \n",
      "count                      100000  100000.00000  \n",
      "mean   2012-07-06 09:43:32.736000       4.00103  \n",
      "min           2012-01-02 00:00:00       1.00000  \n",
      "25%           2012-04-05 00:00:00       2.00000  \n",
      "50%           2012-07-07 00:00:00       4.00000  \n",
      "75%           2012-10-06 00:00:00       6.00000  \n",
      "max           2013-01-13 00:00:00      17.00000  \n",
      "std                           NaN       2.36031  \n",
      "\n",
      "[8 rows x 25 columns]\n"
     ]
    }
   ],
   "source": [
    "print(df.describe())\n"
   ]
  },
  {
   "cell_type": "code",
   "execution_count": 31,
   "id": "2d1fe371",
   "metadata": {},
   "outputs": [
    {
     "name": "stdout",
     "output_type": "stream",
     "text": [
      "eid                           0\n",
      "vdate                         0\n",
      "dialysisrenalendstage         0\n",
      "asthma                        0\n",
      "irondef                       0\n",
      "pneum                         0\n",
      "substancedependence           0\n",
      "psychologicaldisordermajor    0\n",
      "depress                       0\n",
      "psychother                    0\n",
      "fibrosisandother              0\n",
      "malnutrition                  0\n",
      "hemo                          0\n",
      "hematocrit                    0\n",
      "neutrophils                   0\n",
      "sodium                        0\n",
      "glucose                       0\n",
      "bloodureanitro                0\n",
      "creatinine                    0\n",
      "bmi                           0\n",
      "pulse                         0\n",
      "respiration                   0\n",
      "secondarydiagnosisnonicd9     0\n",
      "discharged                    0\n",
      "lengthofstay                  0\n",
      "gender_M                      0\n",
      "rcount_1                      0\n",
      "rcount_2                      0\n",
      "rcount_3                      0\n",
      "rcount_4                      0\n",
      "rcount_5+                     0\n",
      "facid_B                       0\n",
      "facid_C                       0\n",
      "facid_D                       0\n",
      "facid_E                       0\n",
      "dtype: int64\n"
     ]
    }
   ],
   "source": [
    "# missing values\n",
    "print(df.isnull().sum())"
   ]
  },
  {
   "cell_type": "code",
   "execution_count": 35,
   "id": "69198043",
   "metadata": {},
   "outputs": [],
   "source": [
    "\n",
    "df['vdate_numeric'] = (df['vdate'] - df['vdate'].min()).dt.days\n",
    "df['discharged_numeric'] = (df['discharged'] - df['vdate'].min()).dt.days\n"
   ]
  },
  {
   "cell_type": "code",
   "execution_count": 36,
   "id": "032d6365",
   "metadata": {},
   "outputs": [],
   "source": [
    "df = df.drop(['vdate', 'discharged'], axis=1)"
   ]
  },
  {
   "cell_type": "code",
   "execution_count": 37,
   "id": "68b51b0d",
   "metadata": {},
   "outputs": [],
   "source": [
    "X = df.drop(['lengthofstay'], axis=1)\n",
    "y = df['lengthofstay']\n",
    "\n",
    "X_train, X_test, y_train, y_test = train_test_split(X, y, test_size=0.2, random_state=42)\n"
   ]
  },
  {
   "cell_type": "code",
   "execution_count": 38,
   "id": "230a7b19",
   "metadata": {},
   "outputs": [
    {
     "data": {
      "text/html": [
       "<style>#sk-container-id-1 {color: black;}#sk-container-id-1 pre{padding: 0;}#sk-container-id-1 div.sk-toggleable {background-color: white;}#sk-container-id-1 label.sk-toggleable__label {cursor: pointer;display: block;width: 100%;margin-bottom: 0;padding: 0.3em;box-sizing: border-box;text-align: center;}#sk-container-id-1 label.sk-toggleable__label-arrow:before {content: \"▸\";float: left;margin-right: 0.25em;color: #696969;}#sk-container-id-1 label.sk-toggleable__label-arrow:hover:before {color: black;}#sk-container-id-1 div.sk-estimator:hover label.sk-toggleable__label-arrow:before {color: black;}#sk-container-id-1 div.sk-toggleable__content {max-height: 0;max-width: 0;overflow: hidden;text-align: left;background-color: #f0f8ff;}#sk-container-id-1 div.sk-toggleable__content pre {margin: 0.2em;color: black;border-radius: 0.25em;background-color: #f0f8ff;}#sk-container-id-1 input.sk-toggleable__control:checked~div.sk-toggleable__content {max-height: 200px;max-width: 100%;overflow: auto;}#sk-container-id-1 input.sk-toggleable__control:checked~label.sk-toggleable__label-arrow:before {content: \"▾\";}#sk-container-id-1 div.sk-estimator input.sk-toggleable__control:checked~label.sk-toggleable__label {background-color: #d4ebff;}#sk-container-id-1 div.sk-label input.sk-toggleable__control:checked~label.sk-toggleable__label {background-color: #d4ebff;}#sk-container-id-1 input.sk-hidden--visually {border: 0;clip: rect(1px 1px 1px 1px);clip: rect(1px, 1px, 1px, 1px);height: 1px;margin: -1px;overflow: hidden;padding: 0;position: absolute;width: 1px;}#sk-container-id-1 div.sk-estimator {font-family: monospace;background-color: #f0f8ff;border: 1px dotted black;border-radius: 0.25em;box-sizing: border-box;margin-bottom: 0.5em;}#sk-container-id-1 div.sk-estimator:hover {background-color: #d4ebff;}#sk-container-id-1 div.sk-parallel-item::after {content: \"\";width: 100%;border-bottom: 1px solid gray;flex-grow: 1;}#sk-container-id-1 div.sk-label:hover label.sk-toggleable__label {background-color: #d4ebff;}#sk-container-id-1 div.sk-serial::before {content: \"\";position: absolute;border-left: 1px solid gray;box-sizing: border-box;top: 0;bottom: 0;left: 50%;z-index: 0;}#sk-container-id-1 div.sk-serial {display: flex;flex-direction: column;align-items: center;background-color: white;padding-right: 0.2em;padding-left: 0.2em;position: relative;}#sk-container-id-1 div.sk-item {position: relative;z-index: 1;}#sk-container-id-1 div.sk-parallel {display: flex;align-items: stretch;justify-content: center;background-color: white;position: relative;}#sk-container-id-1 div.sk-item::before, #sk-container-id-1 div.sk-parallel-item::before {content: \"\";position: absolute;border-left: 1px solid gray;box-sizing: border-box;top: 0;bottom: 0;left: 50%;z-index: -1;}#sk-container-id-1 div.sk-parallel-item {display: flex;flex-direction: column;z-index: 1;position: relative;background-color: white;}#sk-container-id-1 div.sk-parallel-item:first-child::after {align-self: flex-end;width: 50%;}#sk-container-id-1 div.sk-parallel-item:last-child::after {align-self: flex-start;width: 50%;}#sk-container-id-1 div.sk-parallel-item:only-child::after {width: 0;}#sk-container-id-1 div.sk-dashed-wrapped {border: 1px dashed gray;margin: 0 0.4em 0.5em 0.4em;box-sizing: border-box;padding-bottom: 0.4em;background-color: white;}#sk-container-id-1 div.sk-label label {font-family: monospace;font-weight: bold;display: inline-block;line-height: 1.2em;}#sk-container-id-1 div.sk-label-container {text-align: center;}#sk-container-id-1 div.sk-container {/* jupyter's `normalize.less` sets `[hidden] { display: none; }` but bootstrap.min.css set `[hidden] { display: none !important; }` so we also need the `!important` here to be able to override the default hidden behavior on the sphinx rendered scikit-learn.org. See: https://github.com/scikit-learn/scikit-learn/issues/21755 */display: inline-block !important;position: relative;}#sk-container-id-1 div.sk-text-repr-fallback {display: none;}</style><div id=\"sk-container-id-1\" class=\"sk-top-container\"><div class=\"sk-text-repr-fallback\"><pre>RandomForestRegressor(random_state=42)</pre><b>In a Jupyter environment, please rerun this cell to show the HTML representation or trust the notebook. <br />On GitHub, the HTML representation is unable to render, please try loading this page with nbviewer.org.</b></div><div class=\"sk-container\" hidden><div class=\"sk-item\"><div class=\"sk-estimator sk-toggleable\"><input class=\"sk-toggleable__control sk-hidden--visually\" id=\"sk-estimator-id-1\" type=\"checkbox\" checked><label for=\"sk-estimator-id-1\" class=\"sk-toggleable__label sk-toggleable__label-arrow\">RandomForestRegressor</label><div class=\"sk-toggleable__content\"><pre>RandomForestRegressor(random_state=42)</pre></div></div></div></div></div>"
      ],
      "text/plain": [
       "RandomForestRegressor(random_state=42)"
      ]
     },
     "execution_count": 38,
     "metadata": {},
     "output_type": "execute_result"
    }
   ],
   "source": [
    "model = RandomForestRegressor(n_estimators=100, random_state=42)\n",
    "model.fit(X_train, y_train)\n"
   ]
  },
  {
   "cell_type": "code",
   "execution_count": 40,
   "id": "a0b35252",
   "metadata": {},
   "outputs": [
    {
     "name": "stdout",
     "output_type": "stream",
     "text": [
      "Mean Absolute Error: 0.39367199999999997\n"
     ]
    }
   ],
   "source": [
    "y_pred = model.predict(X_test)\n",
    "from sklearn.metrics import mean_absolute_error  # Add this import statement\n",
    "\n",
    "print('Mean Absolute Error:', mean_absolute_error(y_test, y_pred))"
   ]
  },
  {
   "cell_type": "code",
   "execution_count": 41,
   "id": "d2527df2",
   "metadata": {},
   "outputs": [
    {
     "data": {
      "image/png": "[encoded data removed]",
      "text/plain": [
       "<Figure size 432x288 with 1 Axes>"
      ]
     },
     "metadata": {
      "needs_background": "light"
     },
     "output_type": "display_data"
    }
   ],
   "source": [
    "feature_importances = pd.Series(model.feature_importances_, index=X.columns)\n",
    "feature_importances.nlargest(10).plot(kind='barh')\n",
    "plt.title('Top 10 Feature Importances')\n",
    "plt.show()"
   ]
  },
  {
   "cell_type": "code",
   "execution_count": null,
   "id": "9bd0cd87",
   "metadata": {},
   "outputs": [],
   "source": []
  }
 ],
 "metadata": {
  "kernelspec": {
   "display_name": "Python 3 (ipykernel)",
   "language": "python",
   "name": "python3"
  },
  "language_info": {
   "codemirror_mode": {
    "name": "ipython",
    "version": 3
   },
   "file_extension": ".py",
   "mimetype": "text/x-python",
   "name": "python",
   "nbconvert_exporter": "python",
   "pygments_lexer": "ipython3",
   "version": "3.9.13"
  }
 },
 "nbformat": 4,
 "nbformat_minor": 5
}
